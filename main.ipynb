{
 "cells": [
  {
   "cell_type": "code",
   "execution_count": 1,
   "id": "0456be77",
   "metadata": {},
   "outputs": [],
   "source": [
    "import cv2\n",
    "import numpy as np"
   ]
  },
  {
   "cell_type": "code",
   "execution_count": 2,
   "id": "f0dc2149",
   "metadata": {},
   "outputs": [],
   "source": [
    "cam = cv2.VideoCapture(\"resources/couple.mp4\")"
   ]
  },
  {
   "cell_type": "code",
   "execution_count": 3,
   "id": "00a905c1",
   "metadata": {
    "scrolled": false
   },
   "outputs": [
    {
     "name": "stdout",
     "output_type": "stream",
     "text": [
      "The frame rate is: 30.0\n",
      "new frame rate scale is: 3\n"
     ]
    }
   ],
   "source": [
    "# Check if camera opened successfully\n",
    "if (cam.isOpened()== False): \n",
    "  print(\"Error opening video stream or file\")\n",
    "\n",
    "# Displaying image frames per second\n",
    "fps = cam.get(cv2.CAP_PROP_FPS)\n",
    "print(f\"The frame rate is: {fps}\")\n",
    "\n",
    "# define the number of frames per second\n",
    "new_fps = 10\n",
    "\n",
    "# determine fps scale factor\n",
    "scale_fps = int(fps / new_fps)\n",
    "print(f\"new frame rate scale is: {scale_fps}\")"
   ]
  },
  {
   "cell_type": "code",
   "execution_count": 4,
   "id": "e577ba35",
   "metadata": {},
   "outputs": [],
   "source": [
    "# Create a window to hold the video frame\n",
    "cv2.namedWindow(\"video\", cv2.WINDOW_NORMAL)\n",
    "\n",
    "# Create a list to hold the previously cropped images\n",
    "previouSampleFrames = {}\n",
    "\n",
    "# The number of sample ROIs\n",
    "sampleCount = 5\n",
    "\n",
    "# tells us whether the first frame is the first\n",
    "isFirstFrame = False\n"
   ]
  },
  {
   "cell_type": "code",
   "execution_count": null,
   "id": "b1b831c6",
   "metadata": {},
   "outputs": [],
   "source": [
    "frameCount = 0\n",
    "while(cam.isOpened() == True):\n",
    "    isRet, frame = cam.read()\n",
    "    if(isRet == True & (frameCount%scale_fps == 0)):\n",
    "        \n",
    "        #crop out the sample Regions\n",
    "        for i in range(sampleCount):\n",
    "            newSampleFrame = frame[int((i / sampleCount) * (frame.shape[0] / 2)) : int(frame.shape[0] / 2 + (i / sampleCount) * (frame.shape[0] / 2)) , : ]\n",
    "            cv2.imshow(f\"Slice {i}\", newSampleFrame)\n",
    "            cv2.waitKey(5)\n",
    "            \n",
    "        # Initiate ORB detector\n",
    "        orb = cv2.ORB_create()\n",
    "\n",
    "        # find the keypoints with ORB\n",
    "        kp = orb.detect(frame,None)\n",
    "\n",
    "        # compute the descriptors with ORB\n",
    "        kp, des = orb.compute(frame, kp)\n",
    "\n",
    "        # draw only keypoints location,not size and orientation\n",
    "        frame = cv2.drawKeypoints(frame, kp, None, color=(0,255,0), flags=0)\n",
    "        \n",
    "        cv2.imshow(\"video\", frame)\n",
    "        \n",
    "    elif(isRet == False):\n",
    "        break\n",
    "    \n",
    "    if (cv2.waitKey(20) & 0xFF == ord('q')):\n",
    "        break;\n",
    "    \n",
    "# Increment the freme count\n",
    "    frameCount += 1\n"
   ]
  },
  {
   "cell_type": "code",
   "execution_count": null,
   "id": "810d4eb8",
   "metadata": {},
   "outputs": [],
   "source": [
    "# release resources\n",
    "cam.release()\n",
    "cv2.destroyAllWindows()"
   ]
  }
 ],
 "metadata": {
  "kernelspec": {
   "display_name": "Python 3",
   "language": "python",
   "name": "python3"
  },
  "language_info": {
   "codemirror_mode": {
    "name": "ipython",
    "version": 3
   },
   "file_extension": ".py",
   "mimetype": "text/x-python",
   "name": "python",
   "nbconvert_exporter": "python",
   "pygments_lexer": "ipython3",
   "version": "3.7.9"
  }
 },
 "nbformat": 4,
 "nbformat_minor": 5
}
